{
 "cells": [
  {
   "cell_type": "markdown",
   "id": "911b3b37-3b29-4833-94f2-bfe47af00c83",
   "metadata": {},
   "source": [
    "# Lesson 6: Essay Writer"
   ]
  },
  {
   "cell_type": "code",
   "execution_count": 77,
   "id": "f5762271-8736-4e94-9444-8c92bd0e8074",
   "metadata": {
    "height": 64
   },
   "outputs": [],
   "source": [
    "from dotenv import load_dotenv\n",
    "\n",
    "_ = load_dotenv()"
   ]
  },
  {
   "cell_type": "code",
   "execution_count": 78,
   "id": "d0168aee-bce9-4d60-b827-f86a88187e31",
   "metadata": {
    "height": 147
   },
   "outputs": [],
   "source": [
    "from langgraph.graph import StateGraph, END\n",
    "from typing import TypedDict, Annotated, List\n",
    "import operator\n",
    "from langgraph.checkpoint.sqlite import SqliteSaver\n",
    "from langchain_core.messages import AnyMessage, SystemMessage, HumanMessage, AIMessage, ChatMessage\n",
    "\n",
    "memory = SqliteSaver.from_conn_string(\":memory:\")"
   ]
  },
  {
   "cell_type": "code",
   "execution_count": 79,
   "id": "bde816de-e6a6-4014-b071-ec34e3c0bf57",
   "metadata": {},
   "outputs": [],
   "source": [
    "import sqlite3\n",
    "db_path = 'checkpoints.db'\n",
    "conn = sqlite3.connect(db_path, check_same_thread=False)\n",
    "\n",
    "memory = SqliteSaver(conn)"
   ]
  },
  {
   "cell_type": "code",
   "execution_count": 80,
   "id": "2589c5b6-6cc2-4594-9a17-dccdcf676054",
   "metadata": {
    "height": 149
   },
   "outputs": [],
   "source": [
    "class AgentState(TypedDict):\n",
    "    task: str\n",
    "    plan: str\n",
    "    draft: str\n",
    "    critique: str\n",
    "    content: List[str]\n",
    "    revision_number: int\n",
    "    max_revisions: int"
   ]
  },
  {
   "cell_type": "code",
   "execution_count": 81,
   "id": "a2ba84ec-c172-4de7-ac55-e3158a531b23",
   "metadata": {
    "height": 62
   },
   "outputs": [],
   "source": [
    "from langchain_openai import ChatOpenAI\n",
    "model = ChatOpenAI(model=\"gpt-3.5-turbo\", temperature=0)"
   ]
  },
  {
   "cell_type": "code",
   "execution_count": 82,
   "id": "876d5092-b8ef-4e38-b4d7-0e80c609bf7a",
   "metadata": {
    "height": 79
   },
   "outputs": [],
   "source": [
    "PLAN_PROMPT = \"\"\"You are an expert writer tasked with writing a high level outline of an essay. \\\n",
    "Write such an outline for the user provided topic. Give an outline of the essay along with any relevant notes \\\n",
    "or instructions for the sections.\"\"\""
   ]
  },
  {
   "cell_type": "code",
   "execution_count": 83,
   "id": "10084a02-2928-4945-9f7c-ad3f5b33caf7",
   "metadata": {
    "height": 164
   },
   "outputs": [],
   "source": [
    "WRITER_PROMPT = \"\"\"You are an essay assistant tasked with writing excellent 5-paragraph essays.\\\n",
    "Generate the best essay possible for the user's request and the initial outline. \\\n",
    "If the user provides critique, respond with a revised version of your previous attempts. \\\n",
    "Utilize all the information below as needed: \n",
    "\n",
    "------\n",
    "\n",
    "{content}\"\"\""
   ]
  },
  {
   "cell_type": "code",
   "execution_count": 84,
   "id": "714d1205-f8fc-4912-b148-2a45da99219c",
   "metadata": {
    "height": 79
   },
   "outputs": [],
   "source": [
    "REFLECTION_PROMPT = \"\"\"You are a teacher grading an essay submission. \\\n",
    "Generate critique and recommendations for the user's submission. \\\n",
    "Provide detailed recommendations, including requests for length, depth, style, etc.\"\"\""
   ]
  },
  {
   "cell_type": "code",
   "execution_count": 85,
   "id": "83588e70-254f-4f83-a510-c8ae81e729b0",
   "metadata": {
    "height": 96
   },
   "outputs": [],
   "source": [
    "RESEARCH_PLAN_PROMPT = \"\"\"You are a researcher charged with providing information that can \\\n",
    "be used when writing the following essay. Generate a list of search queries that will gather \\\n",
    "any relevant information. Only generate 3 queries max.\"\"\"\n"
   ]
  },
  {
   "cell_type": "code",
   "execution_count": 86,
   "id": "6cb3ef4c-58b3-401b-b104-0d51e553d982",
   "metadata": {
    "height": 96
   },
   "outputs": [],
   "source": [
    "RESEARCH_CRITIQUE_PROMPT = \"\"\"You are a researcher charged with providing information that can \\\n",
    "be used when making any requested revisions (as outlined below). \\\n",
    "Generate a list of search queries that will gather any relevant information. Only generate 3 queries max.\"\"\"\n"
   ]
  },
  {
   "cell_type": "code",
   "execution_count": 87,
   "id": "dc3293b7-a50c-43c8-a022-8975e1e444b8",
   "metadata": {
    "height": 96
   },
   "outputs": [],
   "source": [
    "from langchain_core.pydantic_v1 import BaseModel\n",
    "\n",
    "class Queries(BaseModel):\n",
    "    queries: List[str]"
   ]
  },
  {
   "cell_type": "code",
   "execution_count": 88,
   "id": "0722c3d4-4cbf-43bf-81b0-50f634c4ce61",
   "metadata": {
    "height": 79
   },
   "outputs": [],
   "source": [
    "from tavily import TavilyClient\n",
    "import os\n",
    "tavily = TavilyClient(api_key=os.environ[\"TAVILY_API_KEY\"])"
   ]
  },
  {
   "cell_type": "code",
   "execution_count": 89,
   "id": "6b2f82fe-3ec4-4917-be51-9fb10d1317fa",
   "metadata": {
    "height": 147
   },
   "outputs": [],
   "source": [
    "def plan_node(state: AgentState):\n",
    "    messages = [\n",
    "        SystemMessage(content=PLAN_PROMPT), \n",
    "        HumanMessage(content=state['task'])\n",
    "    ]\n",
    "    response = model.invoke(messages)\n",
    "    return {\"plan\": response.content}"
   ]
  },
  {
   "cell_type": "code",
   "execution_count": 104,
   "id": "ee0fe1c7-77e2-499c-a2f9-1f739bb6ddf0",
   "metadata": {
    "height": 215
   },
   "outputs": [],
   "source": [
    "def research_plan_node(state: AgentState):\n",
    "    queries = model.with_structured_output(Queries).invoke([\n",
    "        SystemMessage(content=RESEARCH_PLAN_PROMPT),\n",
    "        HumanMessage(content=state['task'])\n",
    "    ])\n",
    "    content = state.get('content') or []\n",
    "    for q in queries.queries:\n",
    "        response = tavily.search(query=q, max_results=2)\n",
    "        for r in response['results']:\n",
    "            content.append(r['content'])\n",
    "    return {\"content\": content}"
   ]
  },
  {
   "cell_type": "code",
   "execution_count": 105,
   "id": "98f303b1-a4d0-408c-8cc0-515ff980717f",
   "metadata": {
    "height": 300
   },
   "outputs": [],
   "source": [
    "def generation_node(state: AgentState):\n",
    "    content = \"\\n\\n\".join(state['content'] or [])\n",
    "    user_message = HumanMessage(\n",
    "        content=f\"{state['task']}\\n\\nHere is my plan:\\n\\n{state['plan']}\")\n",
    "    messages = [\n",
    "        SystemMessage(\n",
    "            content=WRITER_PROMPT.format(content=content)\n",
    "        ),\n",
    "        user_message\n",
    "        ]\n",
    "    response = model.invoke(messages)\n",
    "    return {\n",
    "        \"draft\": response.content, \n",
    "        \"revision_number\": state.get(\"revision_number\", 1) + 1\n",
    "    }\n"
   ]
  },
  {
   "cell_type": "code",
   "execution_count": 106,
   "id": "bf4dcb93-6298-4cfd-b3ce-61dfac7fb35f",
   "metadata": {
    "height": 147
   },
   "outputs": [],
   "source": [
    "def reflection_node(state: AgentState):\n",
    "    messages = [\n",
    "        SystemMessage(content=REFLECTION_PROMPT), \n",
    "        HumanMessage(content=state['draft'])\n",
    "    ]\n",
    "    response = model.invoke(messages)\n",
    "    return {\"critique\": response.content}"
   ]
  },
  {
   "cell_type": "code",
   "execution_count": 107,
   "id": "932883a4-c722-42bb-aec0-b4f41c5c81a4",
   "metadata": {
    "height": 215
   },
   "outputs": [],
   "source": [
    "def research_critique_node(state: AgentState):\n",
    "    queries = model.with_structured_output(Queries).invoke([\n",
    "        SystemMessage(content=RESEARCH_CRITIQUE_PROMPT),\n",
    "        HumanMessage(content=state['critique'])\n",
    "    ])\n",
    "    content = state['content'] or []\n",
    "    for q in queries.queries:\n",
    "        response = tavily.search(query=q, max_results=2)\n",
    "        for r in response['results']:\n",
    "            content.append(r['content'])\n",
    "    return {\"content\": content}"
   ]
  },
  {
   "cell_type": "code",
   "execution_count": 108,
   "id": "ff362f49-dcf1-4ea1-a86c-e516e9ab897d",
   "metadata": {
    "height": 96
   },
   "outputs": [],
   "source": [
    "def should_continue(state):\n",
    "    if state[\"revision_number\"] > state[\"max_revisions\"]:\n",
    "        return END\n",
    "    return \"reflect\""
   ]
  },
  {
   "cell_type": "code",
   "execution_count": 109,
   "id": "a7e15a20-83d7-434c-8551-bce8dcc32be0",
   "metadata": {
    "height": 30
   },
   "outputs": [],
   "source": [
    "builder = StateGraph(AgentState)"
   ]
  },
  {
   "cell_type": "code",
   "execution_count": 110,
   "id": "54ab2c74-f32e-490c-a85d-932d11444210",
   "metadata": {
    "height": 113
   },
   "outputs": [
    {
     "data": {
      "text/plain": [
       "<langgraph.graph.state.StateGraph at 0x20c40930820>"
      ]
     },
     "execution_count": 110,
     "metadata": {},
     "output_type": "execute_result"
    }
   ],
   "source": [
    "builder.add_node(\"planner\", plan_node)\n",
    "builder.add_node(\"generate\", generation_node)\n",
    "builder.add_node(\"reflect\", reflection_node)\n",
    "builder.add_node(\"research_plan\", research_plan_node)\n",
    "builder.add_node(\"research_critique\", research_critique_node)"
   ]
  },
  {
   "cell_type": "code",
   "execution_count": 111,
   "id": "a833d3ce-bd31-4319-811d-decff226b970",
   "metadata": {
    "height": 30
   },
   "outputs": [
    {
     "data": {
      "text/plain": [
       "<langgraph.graph.state.StateGraph at 0x20c40930820>"
      ]
     },
     "execution_count": 111,
     "metadata": {},
     "output_type": "execute_result"
    }
   ],
   "source": [
    "builder.set_entry_point(\"planner\")"
   ]
  },
  {
   "cell_type": "code",
   "execution_count": 112,
   "id": "76e93cce-6eab-4c7c-ac64-e9993fdb30d6",
   "metadata": {
    "height": 115
   },
   "outputs": [
    {
     "data": {
      "text/plain": [
       "<langgraph.graph.state.StateGraph at 0x20c40930820>"
      ]
     },
     "execution_count": 112,
     "metadata": {},
     "output_type": "execute_result"
    }
   ],
   "source": [
    "builder.add_conditional_edges(\n",
    "    \"generate\", \n",
    "    should_continue, \n",
    "    {END: END, \"reflect\": \"reflect\"}\n",
    ")\n"
   ]
  },
  {
   "cell_type": "code",
   "execution_count": 113,
   "id": "fd2d0990-a932-423f-9ff3-5cada58c5f32",
   "metadata": {
    "height": 113
   },
   "outputs": [
    {
     "data": {
      "text/plain": [
       "<langgraph.graph.state.StateGraph at 0x20c40930820>"
      ]
     },
     "execution_count": 113,
     "metadata": {},
     "output_type": "execute_result"
    }
   ],
   "source": [
    "builder.add_edge(\"planner\", \"research_plan\")\n",
    "builder.add_edge(\"research_plan\", \"generate\")\n",
    "\n",
    "builder.add_edge(\"reflect\", \"research_critique\")\n",
    "builder.add_edge(\"research_critique\", \"generate\")"
   ]
  },
  {
   "cell_type": "code",
   "execution_count": 114,
   "id": "27cde654-64e2-48bc-80a9-0ed668ccb7dc",
   "metadata": {
    "height": 45
   },
   "outputs": [],
   "source": [
    "graph = builder.compile(checkpointer=memory)"
   ]
  },
  {
   "cell_type": "code",
   "execution_count": 115,
   "id": "4871f644-b131-4065-b7ce-b82c20a41f11",
   "metadata": {
    "height": 64
   },
   "outputs": [],
   "source": [
    "# from IPython.display import Image\n",
    "\n",
    "# Image(graph.get_graph().draw_png())"
   ]
  },
  {
   "cell_type": "code",
   "execution_count": 116,
   "id": "98f3be1d-cc4c-41fa-9863-3e386e88e305",
   "metadata": {
    "height": 147
   },
   "outputs": [
    {
     "name": "stdout",
     "output_type": "stream",
     "text": [
      "{'planner': {'plan': 'I. Introduction\\n    A. Brief overview of Langchain and Langsmith\\n    B. Thesis statement: Exploring the differences between Langchain and Langsmith\\n\\nII. Langchain\\n    A. Definition and explanation\\n    B. Key features and characteristics\\n    C. Use cases and applications\\n    D. Advantages and disadvantages\\n\\nIII. Langsmith\\n    A. Definition and explanation\\n    B. Key features and characteristics\\n    C. Use cases and applications\\n    D. Advantages and disadvantages\\n\\nIV. Comparison between Langchain and Langsmith\\n    A. Technology stack\\n    B. Scalability\\n    C. Security\\n    D. Interoperability\\n    E. Performance\\n\\nV. Conclusion\\n    A. Recap of main differences between Langchain and Langsmith\\n    B. Implications for future developments in the field\\n    C. Final thoughts on the significance of understanding these differences'}}\n"
     ]
    },
    {
     "name": "stderr",
     "output_type": "stream",
     "text": [
      "C:\\Users\\JavadGholizadeh\\LangGraph-agent\\myenv\\lib\\site-packages\\langchain_openai\\chat_models\\base.py:1656: UserWarning: Received a Pydantic BaseModel V1 schema. This is not supported by method=\"json_schema\". Please use method=\"function_calling\" or specify schema via JSON Schema or Pydantic V2 BaseModel. Overriding to method=\"function_calling\".\n",
      "  warnings.warn(\n",
      "C:\\Users\\JavadGholizadeh\\LangGraph-agent\\myenv\\lib\\site-packages\\langchain_openai\\chat_models\\base.py:1669: UserWarning: Cannot use method='json_schema' with model gpt-3.5-turbo since it doesn't support OpenAI's Structured Output API. You can see supported models here: https://platform.openai.com/docs/guides/structured-outputs#supported-models. To fix this warning, set `method='function_calling'. Overriding to method='function_calling'.\n",
      "  warnings.warn(\n"
     ]
    },
    {
     "name": "stdout",
     "output_type": "stream",
     "text": [
      "{'research_plan': {'content': [\"What's the difference between Langchain and LangSmith? Langchain is a prototyping tool designed to help you quickly build applications with language models. On the other hand, LangSmith is geared towards production, offering features for version control, experimenting, and deploying language model applications at scale.\", 'LangChain vs LangGraph vs LangFlow vs LangSmith: A Detailed Comparison In the rapidly evolving world of AI, building applications powered by advanced language models like GPT-4 or Llama 3 has become more accessible, thanks to frameworks like LangChain, LangGraph, LangFlow, and LangSmith. While these tools share some similarities, they cater to different aspects of AI application development. LangChain is an open-source framework designed to streamline the development of applications leveraging language models. LangFlow simplifies the prototyping process by providing a visual, drag-and-drop interface to design and test workflows. LangSmith is a monitoring and testing tool for LLM applications in production. By leveraging these tools effectively, you can streamline your AI development process and focus on delivering impactful solutions.', 'Build applications with LLMs using LangChain Why LangChain? In this article I will illustrate the most important concepts behind LangChain and explore some hands-on examples to show how you can leverage LangChain to create an application to answer questions about your own documents. LangChain provides common interfaces and functionalities to accomplish this: think of it like a toolbox, where you can take the tools and materials you need to build your specific LLM application. … and many more: you can find an overview of possible use cases with Python guides in the LangChain documentation. Using LangChain for question-answering over documents In this case, I will use LangChain to build an application for retrieval augmented generation.', \"Build a simple LLM application with chat models and prompt templates How to migrate from legacy LangChain agents to LangGraph How to use chat models to call tools How to pass tool outputs to chat models langchain: Chains, agents, and retrieval strategies that make up an application's cognitive architecture. However, these guides will help you quickly accomplish common tasks using chat models, vector stores, and other common LangChain components. LangChain is part of a rich ecosystem of tools that integrate with our framework and build on top of it. If you're looking to get up and running quickly with chat models, vector stores, or other LangChain components from a specific provider, check out our growing list of integrations.\", \"In this article, we'll delve into the key features of Langsmith, its components, and how it integrates with LangChain and other related tools like LangGraph, LangFlow, LangServe, and LangFuse. By leveraging LangChain's capabilities, Langsmith simplifies the process of chaining multiple language models and other NLP components to build powerful applications. LangFlow is a workflow automation tool that integrates seamlessly with Langsmith, enabling developers to design, manage, and automate complex NLP workflows through a visual interface. Langsmith and its companion tools offer a powerful and flexible environment for developing and deploying NLP applications. By building on LangChain's capabilities, Langsmith provides a comprehensive solution for managing the entire lifecycle of NLP models, from development to deployment.\", '[LangGraph](https://langchain-ai.github.io/langgraph/tutorials/introduction/)[LangSmith](https://docs.smith.langchain.com/)[LangChain](https://python.langchain.com/docs/introduction/) [LangGraph](https://langchain-ai.github.io/langgraphjs/tutorials/quickstart/)[LangSmith](https://docs.smith.langchain.com/)[LangChain](https://js.langchain.com/docs/introduction/) LangSmith is a unified observability & evals platform where teams can debug, test, and monitor AI app performance — whether building with LangChain or not. ](https://cdn.prod.website-files.com/65b8cd72835ceeacd4449a53/65c6f96e02d264387bd981d0_Langchain-H3-langsmith-hero-poster.jpg)](https://customer-xp1a3vy0ydc4ega7.cloudflarestream.com/ed974c013062746f89003ef10361ed22/downloads/default.mp4) ![](https://cdn.prod.website-files.com/65c81e88c254bb0f97633a71/6811d2d409525a5b39a8e7d3_Klarna_Logo_black%201.svg) ![](https://cdn.prod.website-files.com/65c81e88c254bb0f97633a71/6811d1aa251143166667aec3_logo_Rakuten.svg) ![](https://cdn.prod.website-files.com/65c81e88c254bb0f97633a71/680b77fc1381ca4ebea292b0_logo_Replit.svg) ![](https://cdn.prod.website-files.com/65c81e88c254bb0f97633a71/6811d1d39b2c6c806093f171_GitLab_logo_(2)%201.svg) ![](https://cdn.prod.website-files.com/65c81e88c254bb0f97633a71/6811d1c1c55df212370b53fd_logo_Elastic.svg) ![](https://cdn.prod.website-files.com/65c81e88c254bb0f97633a71/680f49cea075b0f09f44edc0_logo_rippling.svg) ![](https://cdn.prod.website-files.com/65c81e88c254bb0f97633a71/6811d1fffdc1291f495b4611_logo_Cisco.svg) ![](https://cdn.prod.website-files.com/65c81e88c254bb0f97633a71/6811d206eefdb37789451855_The_Home_Depot-Logo.wine%201.svg) ![](https://cdn.prod.website-files.com/65c81e88c254bb0f97633a71/6811d1e509525a5b39a81208_unify%20logo%20-%20black%201.svg) ![](https://cdn.prod.website-files.com/65c81e88c254bb0f97633a71/680b779e2ea38c8efeb6757b_logo_bytedance.svg) ![](https://cdn.prod.website-files.com/65c81e88c254bb0f97633a71/6811d18a7cef47c38c0eeb48_C._H._Robinson_logo%201.svg) ![](https://cdn.prod.website-files.com/65c81e88c254bb0f97633a71/681ef04780a109ff698c5757_Frame%20264-5.svg) ![](https://cdn.prod.website-files.com/65c81e88c254bb0f97633a71/6811d2d409525a5b39a8e7d3_Klarna_Logo_black%201.svg) ![](https://cdn.prod.website-files.com/65c81e88c254bb0f97633a71/6811d1aa251143166667aec3_logo_Rakuten.svg) ![](https://cdn.prod.website-files.com/65c81e88c254bb0f97633a71/680b77fc1381ca4ebea292b0_logo_Replit.svg) ![](https://cdn.prod.website-files.com/65c81e88c254bb0f97633a71/6811d1d39b2c6c806093f171_GitLab_logo_(2)%201.svg) ![](https://cdn.prod.website-files.com/65c81e88c254bb0f97633a71/6811d1c1c55df212370b53fd_logo_Elastic.svg) ![](https://cdn.prod.website-files.com/65c81e88c254bb0f97633a71/680f49cea075b0f09f44edc0_logo_rippling.svg) ![](https://cdn.prod.website-files.com/65c81e88c254bb0f97633a71/6811d1fffdc1291f495b4611_logo_Cisco.svg) ![](https://cdn.prod.website-files.com/65c81e88c254bb0f97633a71/6811d206eefdb37789451855_The_Home_Depot-Logo.wine%201.svg) ![](https://cdn.prod.website-files.com/65c81e88c254bb0f97633a71/6811d1e509525a5b39a81208_unify%20logo%20-%20black%201.svg) ![](https://cdn.prod.website-files.com/65c81e88c254bb0f97633a71/680b779e2ea38c8efeb6757b_logo_bytedance.svg) ![](https://cdn.prod.website-files.com/65c81e88c254bb0f97633a71/6811d18a7cef47c38c0eeb48_C._H._Robinson_logo%201.svg) ![](https://cdn.prod.website-files.com/65c81e88c254bb0f97633a71/681ef04780a109ff698c5757_Frame%20264-5.svg) ![](https://cdn.prod.website-files.com/65c81e88c254bb0f97633a71/6811d2d409525a5b39a8e7d3_Klarna_Logo_black%201.svg) ![](https://cdn.prod.website-files.com/65c81e88c254bb0f97633a71/6811d1aa251143166667aec3_logo_Rakuten.svg) ![](https://cdn.prod.website-files.com/65c81e88c254bb0f97633a71/680b77fc1381ca4ebea292b0_logo_Replit.svg) ![](https://cdn.prod.website-files.com/65c81e88c254bb0f97633a71/6811d1d39b2c6c806093f171_GitLab_logo_(2)%201.svg) ![](https://cdn.prod.website-files.com/65c81e88c254bb0f97633a71/6811d1c1c55df212370b53fd_logo_Elastic.svg) ![](https://cdn.prod.website-files.com/65c81e88c254bb0f97633a71/680f49cea075b0f09f44edc0_logo_rippling.svg) ![](https://cdn.prod.website-files.com/65c81e88c254bb0f97633a71/6811d1fffdc1291f495b4611_logo_Cisco.svg) ![](https://cdn.prod.website-files.com/65c81e88c254bb0f97633a71/6811d206eefdb37789451855_The_Home_Depot-Logo.wine%201.svg) ![](https://cdn.prod.website-files.com/65c81e88c254bb0f97633a71/6811d1e509525a5b39a81208_unify%20logo%20-%20black%201.svg) ![](https://cdn.prod.website-files.com/65c81e88c254bb0f97633a71/680b779e2ea38c8efeb6757b_logo_bytedance.svg) ![](https://cdn.prod.website-files.com/65c81e88c254bb0f97633a71/6811d18a7cef47c38c0eeb48_C._H._Robinson_logo%201.svg) ![](https://cdn.prod.website-files.com/65c81e88c254bb0f97633a71/681ef04780a109ff698c5757_Frame%20264-5.svg) ![](https://cdn.prod.website-files.com/65c81e88c254bb0f97633a71/6811d2d409525a5b39a8e7d3_Klarna_Logo_black%201.svg) ![](https://cdn.prod.website-files.com/65c81e88c254bb0f97633a71/6811d1aa251143166667aec3_logo_Rakuten.svg) ![](https://cdn.prod.website-files.com/65c81e88c254bb0f97633a71/680b77fc1381ca4ebea292b0_logo_Replit.svg) ![](https://cdn.prod.website-files.com/65c81e88c254bb0f97633a71/6811d1d39b2c6c806093f171_GitLab_logo_(2)%201.svg) ![](https://cdn.prod.website-files.com/65c81e88c254bb0f97633a71/6811d1c1c55df212370b53fd_logo_Elastic.svg) ![](https://cdn.prod.website-files.com/65c81e88c254bb0f97633a71/680f49cea075b0f09f44edc0_logo_rippling.svg) ![](https://cdn.prod.website-files.com/65c81e88c254bb0f97633a71/6811d1fffdc1291f495b4611_logo_Cisco.svg) ![](https://cdn.prod.website-files.com/65c81e88c254bb0f97633a71/6811d206eefdb37789451855_The_Home_Depot-Logo.wine%201.svg) ![](https://cdn.prod.website-files.com/65c81e88c254bb0f97633a71/6811d1e509525a5b39a81208_unify%20logo%20-%20black%201.svg) ![](https://cdn.prod.website-files.com/65c81e88c254bb0f97633a71/680b779e2ea38c8efeb6757b_logo_bytedance.svg) ![](https://cdn.prod.website-files.com/65c81e88c254bb0f97633a71/6811d18a7cef47c38c0eeb48_C._H._Robinson_logo%201.svg) ![](https://cdn.prod.website-files.com/65c81e88c254bb0f97633a71/681ef04780a109ff698c5757_Frame%20264-5.svg) [Get started tracing your app](https://docs.smith.langchain.com/observability) ![](https://cdn.prod.website-files.com/65b8cd72835ceeacd4449a53/681d8c11c0cebd9db8be75ce_Agent%20trace%20-%20May%208.png) ![](https://cdn.prod.website-files.com/65b8cd72835ceeacd4449a53/65c7d4c09e14ce5f9ed2cf5b_Evaluation%20%20page-%20regression%20testing%20image%202.png) [Learn how to run an eval](https://docs.smith.langchain.com/evaluation) ![](https://cdn.prod.website-files.com/65b8cd72835ceeacd4449a53/6819555515f20028f4d0f60c_LangSmith_Iterate%20and%20Collaborate_v2%201%20(1).png) ![](https://cdn.prod.website-files.com/65b8cd72835ceeacd4449a53/6819558ec30d63643abebac2_LangSmith_Monitor%20what%20matters%20to%20the%20business.png) ![](https://cdn.prod.website-files.com/65b8cd72835ceeacd4449a53/681b6946dcb0f115f4d207ee_Frame%2099835.svg) ![](https://cdn.prod.website-files.com/65b8cd72835ceeacd4449a53/681b69461e7961cdb9195b2c_Partnership%20Work%20Business%20Seo%20Agency%20Work%201.svg) ![](https://cdn.prod.website-files.com/65b8cd72835ceeacd4449a53/681b69468ce5f5fa19a8a758_Teamwork%20Work%20Business%20Seo%20Agency%20Work%201.svg) ![](https://cdn.prod.website-files.com/65b8cd72835ceeacd4449a53/681b5db9e67c81972578dc02_Vector.png) ![](https://cdn.prod.website-files.com/65b8cd72835ceeacd4449a53/681b5db9e67c81972578dc02_Vector.png) ![](https://cdn.prod.website-files.com/65b8cd72835ceeacd4449a53/681b5db9e67c81972578dc02_Vector.png) See LangSmith [Terms of Service](https://www.langchain.com/terms-of-service) for more information. See our [pricing page](https://www.langchain.com/pricing-langsmith) for more information, and find a plan that works for you. ![](https://cdn.prod.website-files.com/65b8cd72835ceeacd4449a53/65c6a38f9c53ec71f5fc73de_langchain-word.svg)']}}\n",
      "{'generate': {'draft': '**Title: Exploring the Contrasts Between LangChain and LangSmith**\\n\\nI. Introduction\\nIn the realm of AI application development, LangChain and LangSmith stand out as prominent tools with distinct functionalities. LangChain is a prototyping tool aimed at facilitating the rapid construction of applications using language models, while LangSmith is tailored for production, offering features for version control, experimentation, and deploying language model applications at scale. This essay delves into the disparities between LangChain and LangSmith to provide a comprehensive understanding of their unique characteristics.\\n\\nII. LangChain\\nLangChain serves as an open-source framework designed to streamline the development of applications that harness language models. It offers a toolbox of common interfaces and functionalities, making it easier to build specific applications utilizing language models. With LangChain, users can create applications for various purposes, such as question-answering over documents, showcasing its versatility. While LangChain simplifies the prototyping process, it may have limitations in terms of scalability for large-scale production applications.\\n\\nIII. LangSmith\\nIn contrast, LangSmith functions as a monitoring and testing tool specifically tailored for Large Language Model (LLM) applications in production environments. By integrating with LangChain and other related tools like LangGraph and LangFlow, LangSmith simplifies the process of chaining multiple language models and NLP components to build robust applications. Its companion tools, such as LangFlow, provide a visual interface for designing, managing, and automating complex NLP workflows, enhancing the overall development process.\\n\\nIV. Comparison between LangChain and LangSmith\\nA. Technology Stack: LangChain focuses on prototyping with language models, while LangSmith emphasizes monitoring and testing in production environments.\\nB. Scalability: LangChain may be more suitable for smaller-scale applications, whereas LangSmith offers features for deploying applications at scale.\\nC. Security: LangChain and LangSmith may have different security considerations based on their respective use cases and deployment environments.\\nD. Interoperability: Both tools may have varying levels of interoperability with other frameworks and systems in the AI ecosystem.\\nE. Performance: The performance metrics of LangChain and LangSmith can differ based on the complexity and scale of the applications they are used for.\\n\\nV. Conclusion\\nUnderstanding the disparities between LangChain and LangSmith is crucial for AI developers and organizations looking to leverage language models effectively. While LangChain excels in rapid prototyping, LangSmith shines in production-level monitoring and testing. By recognizing the strengths and limitations of each tool, developers can make informed decisions to enhance their AI development processes. Embracing these differences paves the way for future advancements in AI application development, emphasizing the significance of choosing the right tool for the right stage of development.', 'revision_number': 2}}\n",
      "{'reflect': {'critique': '**Critique:**\\n\\n1. **Introduction:**\\n   - The introduction provides a clear overview of the topic and sets the stage for the comparison between LangChain and LangSmith. It effectively outlines the purpose of the essay.\\n\\n2. **LangChain and LangSmith Sections:**\\n   - The descriptions of LangChain and LangSmith are informative and highlight their key features and functionalities. However, more depth could be added by including specific examples or case studies to illustrate how these tools are used in real-world scenarios.\\n   - It would be beneficial to include information on the user experience, ease of use, community support, and any notable success stories associated with each tool.\\n\\n3. **Comparison Section:**\\n   - The comparison section covers important aspects such as technology stack, scalability, security, interoperability, and performance. To enhance this section, consider providing more detailed examples or case studies that showcase how these factors play out in practical applications.\\n   - Including a comparative analysis of user feedback, adoption rates, and industry recognition for LangChain and LangSmith would add depth to the comparison.\\n\\n4. **Conclusion:**\\n   - The conclusion effectively summarizes the key points discussed in the essay. To strengthen it further, consider reiterating the most significant disparities between LangChain and LangSmith and their implications for AI developers and organizations.\\n\\n**Recommendations:**\\n\\n1. **Depth and Examples:**\\n   - Add more depth to the descriptions of LangChain and LangSmith by including specific examples, case studies, or user testimonials to provide a richer understanding of how these tools are utilized.\\n   - Incorporate real-world scenarios to demonstrate the practical applications of LangChain and LangSmith, showcasing their strengths and limitations in different contexts.\\n\\n2. **User Experience and Success Stories:**\\n   - Include information on the user experience, ease of use, community support, and any success stories associated with LangChain and LangSmith to provide a holistic view of their impact in the AI development landscape.\\n\\n3. **Comparative Analysis:**\\n   - Enhance the comparison section by providing a more detailed analysis of how LangChain and LangSmith stack up against each other in terms of user feedback, adoption rates, industry recognition, and overall performance in diverse use cases.\\n\\n4. **Future Implications:**\\n   - Consider discussing the potential future developments or trends in AI application development that could influence the evolution of tools like LangChain and LangSmith, highlighting the importance of staying abreast of technological advancements.\\n\\n5. **Length and Detail:**\\n   - Expand on each section to provide a more comprehensive analysis of LangChain and LangSmith, their functionalities, strengths, weaknesses, and practical implications for AI developers and organizations.\\n   - Aim to strike a balance between technical details and accessible language to cater to a diverse audience interested in AI application development.\\n\\nBy incorporating these recommendations, you can enrich your essay and provide readers with a more insightful and engaging exploration of the contrasts between LangChain and LangSmith.'}}\n"
     ]
    },
    {
     "name": "stderr",
     "output_type": "stream",
     "text": [
      "C:\\Users\\JavadGholizadeh\\LangGraph-agent\\myenv\\lib\\site-packages\\langchain_openai\\chat_models\\base.py:1656: UserWarning: Received a Pydantic BaseModel V1 schema. This is not supported by method=\"json_schema\". Please use method=\"function_calling\" or specify schema via JSON Schema or Pydantic V2 BaseModel. Overriding to method=\"function_calling\".\n",
      "  warnings.warn(\n",
      "C:\\Users\\JavadGholizadeh\\LangGraph-agent\\myenv\\lib\\site-packages\\langchain_openai\\chat_models\\base.py:1669: UserWarning: Cannot use method='json_schema' with model gpt-3.5-turbo since it doesn't support OpenAI's Structured Output API. You can see supported models here: https://platform.openai.com/docs/guides/structured-outputs#supported-models. To fix this warning, set `method='function_calling'. Overriding to method='function_calling'.\n",
      "  warnings.warn(\n"
     ]
    },
    {
     "name": "stdout",
     "output_type": "stream",
     "text": [
      "{'research_critique': {'content': [\"What's the difference between Langchain and LangSmith? Langchain is a prototyping tool designed to help you quickly build applications with language models. On the other hand, LangSmith is geared towards production, offering features for version control, experimenting, and deploying language model applications at scale.\", 'LangChain vs LangGraph vs LangFlow vs LangSmith: A Detailed Comparison In the rapidly evolving world of AI, building applications powered by advanced language models like GPT-4 or Llama 3 has become more accessible, thanks to frameworks like LangChain, LangGraph, LangFlow, and LangSmith. While these tools share some similarities, they cater to different aspects of AI application development. LangChain is an open-source framework designed to streamline the development of applications leveraging language models. LangFlow simplifies the prototyping process by providing a visual, drag-and-drop interface to design and test workflows. LangSmith is a monitoring and testing tool for LLM applications in production. By leveraging these tools effectively, you can streamline your AI development process and focus on delivering impactful solutions.', 'Build applications with LLMs using LangChain Why LangChain? In this article I will illustrate the most important concepts behind LangChain and explore some hands-on examples to show how you can leverage LangChain to create an application to answer questions about your own documents. LangChain provides common interfaces and functionalities to accomplish this: think of it like a toolbox, where you can take the tools and materials you need to build your specific LLM application. … and many more: you can find an overview of possible use cases with Python guides in the LangChain documentation. Using LangChain for question-answering over documents In this case, I will use LangChain to build an application for retrieval augmented generation.', \"Build a simple LLM application with chat models and prompt templates How to migrate from legacy LangChain agents to LangGraph How to use chat models to call tools How to pass tool outputs to chat models langchain: Chains, agents, and retrieval strategies that make up an application's cognitive architecture. However, these guides will help you quickly accomplish common tasks using chat models, vector stores, and other common LangChain components. LangChain is part of a rich ecosystem of tools that integrate with our framework and build on top of it. If you're looking to get up and running quickly with chat models, vector stores, or other LangChain components from a specific provider, check out our growing list of integrations.\", \"In this article, we'll delve into the key features of Langsmith, its components, and how it integrates with LangChain and other related tools like LangGraph, LangFlow, LangServe, and LangFuse. By leveraging LangChain's capabilities, Langsmith simplifies the process of chaining multiple language models and other NLP components to build powerful applications. LangFlow is a workflow automation tool that integrates seamlessly with Langsmith, enabling developers to design, manage, and automate complex NLP workflows through a visual interface. Langsmith and its companion tools offer a powerful and flexible environment for developing and deploying NLP applications. By building on LangChain's capabilities, Langsmith provides a comprehensive solution for managing the entire lifecycle of NLP models, from development to deployment.\", '[LangGraph](https://langchain-ai.github.io/langgraph/tutorials/introduction/)[LangSmith](https://docs.smith.langchain.com/)[LangChain](https://python.langchain.com/docs/introduction/) [LangGraph](https://langchain-ai.github.io/langgraphjs/tutorials/quickstart/)[LangSmith](https://docs.smith.langchain.com/)[LangChain](https://js.langchain.com/docs/introduction/) LangSmith is a unified observability & evals platform where teams can debug, test, and monitor AI app performance — whether building with LangChain or not. ](https://cdn.prod.website-files.com/65b8cd72835ceeacd4449a53/65c6f96e02d264387bd981d0_Langchain-H3-langsmith-hero-poster.jpg)](https://customer-xp1a3vy0ydc4ega7.cloudflarestream.com/ed974c013062746f89003ef10361ed22/downloads/default.mp4) ![](https://cdn.prod.website-files.com/65c81e88c254bb0f97633a71/6811d2d409525a5b39a8e7d3_Klarna_Logo_black%201.svg) ![](https://cdn.prod.website-files.com/65c81e88c254bb0f97633a71/6811d1aa251143166667aec3_logo_Rakuten.svg) ![](https://cdn.prod.website-files.com/65c81e88c254bb0f97633a71/680b77fc1381ca4ebea292b0_logo_Replit.svg) ![](https://cdn.prod.website-files.com/65c81e88c254bb0f97633a71/6811d1d39b2c6c806093f171_GitLab_logo_(2)%201.svg) ![](https://cdn.prod.website-files.com/65c81e88c254bb0f97633a71/6811d1c1c55df212370b53fd_logo_Elastic.svg) ![](https://cdn.prod.website-files.com/65c81e88c254bb0f97633a71/680f49cea075b0f09f44edc0_logo_rippling.svg) ![](https://cdn.prod.website-files.com/65c81e88c254bb0f97633a71/6811d1fffdc1291f495b4611_logo_Cisco.svg) ![](https://cdn.prod.website-files.com/65c81e88c254bb0f97633a71/6811d206eefdb37789451855_The_Home_Depot-Logo.wine%201.svg) ![](https://cdn.prod.website-files.com/65c81e88c254bb0f97633a71/6811d1e509525a5b39a81208_unify%20logo%20-%20black%201.svg) ![](https://cdn.prod.website-files.com/65c81e88c254bb0f97633a71/680b779e2ea38c8efeb6757b_logo_bytedance.svg) ![](https://cdn.prod.website-files.com/65c81e88c254bb0f97633a71/6811d18a7cef47c38c0eeb48_C._H._Robinson_logo%201.svg) ![](https://cdn.prod.website-files.com/65c81e88c254bb0f97633a71/681ef04780a109ff698c5757_Frame%20264-5.svg) ![](https://cdn.prod.website-files.com/65c81e88c254bb0f97633a71/6811d2d409525a5b39a8e7d3_Klarna_Logo_black%201.svg) ![](https://cdn.prod.website-files.com/65c81e88c254bb0f97633a71/6811d1aa251143166667aec3_logo_Rakuten.svg) ![](https://cdn.prod.website-files.com/65c81e88c254bb0f97633a71/680b77fc1381ca4ebea292b0_logo_Replit.svg) ![](https://cdn.prod.website-files.com/65c81e88c254bb0f97633a71/6811d1d39b2c6c806093f171_GitLab_logo_(2)%201.svg) ![](https://cdn.prod.website-files.com/65c81e88c254bb0f97633a71/6811d1c1c55df212370b53fd_logo_Elastic.svg) ![](https://cdn.prod.website-files.com/65c81e88c254bb0f97633a71/680f49cea075b0f09f44edc0_logo_rippling.svg) ![](https://cdn.prod.website-files.com/65c81e88c254bb0f97633a71/6811d1fffdc1291f495b4611_logo_Cisco.svg) ![](https://cdn.prod.website-files.com/65c81e88c254bb0f97633a71/6811d206eefdb37789451855_The_Home_Depot-Logo.wine%201.svg) ![](https://cdn.prod.website-files.com/65c81e88c254bb0f97633a71/6811d1e509525a5b39a81208_unify%20logo%20-%20black%201.svg) ![](https://cdn.prod.website-files.com/65c81e88c254bb0f97633a71/680b779e2ea38c8efeb6757b_logo_bytedance.svg) ![](https://cdn.prod.website-files.com/65c81e88c254bb0f97633a71/6811d18a7cef47c38c0eeb48_C._H._Robinson_logo%201.svg) ![](https://cdn.prod.website-files.com/65c81e88c254bb0f97633a71/681ef04780a109ff698c5757_Frame%20264-5.svg) ![](https://cdn.prod.website-files.com/65c81e88c254bb0f97633a71/6811d2d409525a5b39a8e7d3_Klarna_Logo_black%201.svg) ![](https://cdn.prod.website-files.com/65c81e88c254bb0f97633a71/6811d1aa251143166667aec3_logo_Rakuten.svg) ![](https://cdn.prod.website-files.com/65c81e88c254bb0f97633a71/680b77fc1381ca4ebea292b0_logo_Replit.svg) ![](https://cdn.prod.website-files.com/65c81e88c254bb0f97633a71/6811d1d39b2c6c806093f171_GitLab_logo_(2)%201.svg) ![](https://cdn.prod.website-files.com/65c81e88c254bb0f97633a71/6811d1c1c55df212370b53fd_logo_Elastic.svg) ![](https://cdn.prod.website-files.com/65c81e88c254bb0f97633a71/680f49cea075b0f09f44edc0_logo_rippling.svg) ![](https://cdn.prod.website-files.com/65c81e88c254bb0f97633a71/6811d1fffdc1291f495b4611_logo_Cisco.svg) ![](https://cdn.prod.website-files.com/65c81e88c254bb0f97633a71/6811d206eefdb37789451855_The_Home_Depot-Logo.wine%201.svg) ![](https://cdn.prod.website-files.com/65c81e88c254bb0f97633a71/6811d1e509525a5b39a81208_unify%20logo%20-%20black%201.svg) ![](https://cdn.prod.website-files.com/65c81e88c254bb0f97633a71/680b779e2ea38c8efeb6757b_logo_bytedance.svg) ![](https://cdn.prod.website-files.com/65c81e88c254bb0f97633a71/6811d18a7cef47c38c0eeb48_C._H._Robinson_logo%201.svg) ![](https://cdn.prod.website-files.com/65c81e88c254bb0f97633a71/681ef04780a109ff698c5757_Frame%20264-5.svg) ![](https://cdn.prod.website-files.com/65c81e88c254bb0f97633a71/6811d2d409525a5b39a8e7d3_Klarna_Logo_black%201.svg) ![](https://cdn.prod.website-files.com/65c81e88c254bb0f97633a71/6811d1aa251143166667aec3_logo_Rakuten.svg) ![](https://cdn.prod.website-files.com/65c81e88c254bb0f97633a71/680b77fc1381ca4ebea292b0_logo_Replit.svg) ![](https://cdn.prod.website-files.com/65c81e88c254bb0f97633a71/6811d1d39b2c6c806093f171_GitLab_logo_(2)%201.svg) ![](https://cdn.prod.website-files.com/65c81e88c254bb0f97633a71/6811d1c1c55df212370b53fd_logo_Elastic.svg) ![](https://cdn.prod.website-files.com/65c81e88c254bb0f97633a71/680f49cea075b0f09f44edc0_logo_rippling.svg) ![](https://cdn.prod.website-files.com/65c81e88c254bb0f97633a71/6811d1fffdc1291f495b4611_logo_Cisco.svg) ![](https://cdn.prod.website-files.com/65c81e88c254bb0f97633a71/6811d206eefdb37789451855_The_Home_Depot-Logo.wine%201.svg) ![](https://cdn.prod.website-files.com/65c81e88c254bb0f97633a71/6811d1e509525a5b39a81208_unify%20logo%20-%20black%201.svg) ![](https://cdn.prod.website-files.com/65c81e88c254bb0f97633a71/680b779e2ea38c8efeb6757b_logo_bytedance.svg) ![](https://cdn.prod.website-files.com/65c81e88c254bb0f97633a71/6811d18a7cef47c38c0eeb48_C._H._Robinson_logo%201.svg) ![](https://cdn.prod.website-files.com/65c81e88c254bb0f97633a71/681ef04780a109ff698c5757_Frame%20264-5.svg) [Get started tracing your app](https://docs.smith.langchain.com/observability) ![](https://cdn.prod.website-files.com/65b8cd72835ceeacd4449a53/681d8c11c0cebd9db8be75ce_Agent%20trace%20-%20May%208.png) ![](https://cdn.prod.website-files.com/65b8cd72835ceeacd4449a53/65c7d4c09e14ce5f9ed2cf5b_Evaluation%20%20page-%20regression%20testing%20image%202.png) [Learn how to run an eval](https://docs.smith.langchain.com/evaluation) ![](https://cdn.prod.website-files.com/65b8cd72835ceeacd4449a53/6819555515f20028f4d0f60c_LangSmith_Iterate%20and%20Collaborate_v2%201%20(1).png) ![](https://cdn.prod.website-files.com/65b8cd72835ceeacd4449a53/6819558ec30d63643abebac2_LangSmith_Monitor%20what%20matters%20to%20the%20business.png) ![](https://cdn.prod.website-files.com/65b8cd72835ceeacd4449a53/681b6946dcb0f115f4d207ee_Frame%2099835.svg) ![](https://cdn.prod.website-files.com/65b8cd72835ceeacd4449a53/681b69461e7961cdb9195b2c_Partnership%20Work%20Business%20Seo%20Agency%20Work%201.svg) ![](https://cdn.prod.website-files.com/65b8cd72835ceeacd4449a53/681b69468ce5f5fa19a8a758_Teamwork%20Work%20Business%20Seo%20Agency%20Work%201.svg) ![](https://cdn.prod.website-files.com/65b8cd72835ceeacd4449a53/681b5db9e67c81972578dc02_Vector.png) ![](https://cdn.prod.website-files.com/65b8cd72835ceeacd4449a53/681b5db9e67c81972578dc02_Vector.png) ![](https://cdn.prod.website-files.com/65b8cd72835ceeacd4449a53/681b5db9e67c81972578dc02_Vector.png) See LangSmith [Terms of Service](https://www.langchain.com/terms-of-service) for more information. See our [pricing page](https://www.langchain.com/pricing-langsmith) for more information, and find a plan that works for you. ![](https://cdn.prod.website-files.com/65b8cd72835ceeacd4449a53/65c6a38f9c53ec71f5fc73de_langchain-word.svg)', 'Case Studies - LangChain Blog How Webtoon Entertainment built agentic workflows with LangGraph to scale story understanding --------------------------------------------------------------------------------------------- See how Webtoon is transforming storytelling with agent workflows built on LangGraph for content discovery to help marketing, transation, and recommendation teams. How DocentPro Built a Multi-Agent Travel Companion with LangGraph ----------------------------------------------------------------- See how DocentPro built a multi-agent system in LangGraph and traces and monitors interactions with LangSmith for their AI search itinerary agent Vodafone transforms data operations with AI using LangChain and LangGraph ------------------------------------------------------------------------- See how Vodafone, a leading telecom company serving 340M+ customers, used LangChain and LangGraph for its performance metrics monitoring and information retrieval chatbots. How C.H. Robinson is transforming the logistics industry with LangChain ----------------------------------------------------------------------- Global logistics provider saves 600+ hours a day with tech they built using LangGraph, LangGraph Studio, and LangSmith developer tools.', 'By the end of the design phase, the team had a blueprint for an app that would deliver LangChain’s sophisticated language processing in a user-friendly package, setting the stage for the next phases of development and integration. Through the implementation of Agile methodologies, the development team was able to navigate the complexities of modern mobile app development, creating a robust and user-centric application that fully leveraged the capabilities of LangChain technology. For the LangChain-based app, the post-launch strategy focused on regular updates fueled by user feedback, performance metrics, and the ongoing evolution of LangChain technology. By adhering to these best practices and learning from the experiences of launching a LangChain-based app, developers can increase the likelihood of creating successful, user-friendly, and innovative mobile applications that stand the test of time.', \"Thousands of companies build AI apps better with LangChain products. ### How Replit redefined their AI agent workflows with LangGraph and LangSmith ### How Dun & Bradstreet's ChatD&B™ uses LangChain and LangSmith to deliver trusted, data-driven AI insights Adyen decided to use LangChain to build a smart ticket routing system and support agent copilot because they could rely on a single, easy-to-customize framework to get from... “Working with LangChain and LangSmith on the Elastic AI Assistant had a significant positive impact on the overall pace and quality of the development and shipping experience. We couldn’t have achieved the product experience delivered to our customers without LangChain, and we couldn’t have done it at the same pace without LangSmith.”\", \"What Is LangSmith? What Are LangSmith Traces? How We Use LangSmith at CommandBar: AI-Powered User Assistance However, with the aforementioned challenges of unhinged AI-generated responses not always aligning with user expectations, once we flicked on LangSmith, we took our prototyping and QA from mediocre guesswork to David Blane quality witchcraft. By combining granular AI insights through LangSmith with user feedback, we’ve created a pretty tight loop of perpetual improvement with HelpHub. This was such an important unlock for us as we build in tactical functionality to our AI. After diving deep with LangSmith's traces, experimenting with prompts, testing, and iterating on our LLM environment, here's the real talk: LangSmith isn't just a tool for us - it's become a critical inclusion in our stack. So, to our fellow AI product people trailblazers, dive into LangSmith.\", 'In LLM application development, LangChain and LangSmith have become central tools for building and managing large language model-powered solutions. This article compares LangChain and LangSmith, focusing on their core features, integration options, and value for developers in the LLM application space. LangChain is an open-source framework that helps developers create LLM applications efficiently. LangChain streamlines the development of conversational agents and tool-using AI. LangSmith provides tools to debug, monitor, and improve LLM-powered agents, and offers a managed cloud service with a web UI. | LLM Evaluation | Minimal built-in support; developers typically create custom logic or use external tools. LangChain provides building blocks for LLM applications, while LangSmith offers observability and evaluation.', \"Log user feedback In many applications, but even more so for LLM applications, it is important to collect user feedback to understand how your application is performing in real-world scenarios. The ability to observe user feedback along with trace data can be very powerful to drill down into the most interesting datapoints, then send those datapoints for further review, automatic evaluation, or even datasets. To learn more about how to filter traces based on various attributes, including user feedback, see this guide LangSmith makes it easy to attach user feedback to traces. It's often helpful to expose a simple mechanism (such as a thumbs-up, thumbs-down button) to collect user feedback for your application responses. You can attach user feedback to ANY intermediate run (span) of the trace, not just the root span.\"]}}\n",
      "{'generate': {'draft': '**Title: Exploring the Contrasts Between LangChain and LangSmith**\\n\\nI. Introduction\\nIn the realm of AI application development, LangChain and LangSmith stand out as prominent tools with distinct functionalities. While LangChain focuses on streamlining the creation of applications using language models, LangSmith is tailored for monitoring and testing applications in production environments. This essay delves into the disparities between LangChain and LangSmith to provide a comprehensive understanding of their unique features.\\n\\nII. LangChain\\nLangChain is an open-source framework designed to simplify the development of applications that leverage language models. It offers common interfaces and functionalities, akin to a toolbox, enabling users to build specific applications efficiently. With LangChain, users can create applications for tasks like question-answering over documents, utilizing chains, agents, and retrieval strategies.\\n\\nIII. LangSmith\\nOn the other hand, LangSmith serves as a monitoring and testing tool for applications powered by large language models (LLMs) in production settings. It integrates seamlessly with LangChain and other related tools, such as LangGraph and LangFlow, to facilitate the chaining of multiple language models and NLP components for robust applications.\\n\\nIV. Comparison between LangChain and LangSmith\\nA. Technology Stack: LangChain focuses on streamlining application development, while LangSmith emphasizes monitoring and testing.\\nB. Scalability: LangChain aids in building scalable applications, whereas LangSmith ensures the performance and reliability of applications at scale.\\nC. Security: LangChain and LangSmith offer security features tailored to their respective purposes in application development and production monitoring.\\nD. Interoperability: Both tools can integrate with other frameworks and tools, but LangChain is more focused on development, while LangSmith is geared towards production environments.\\nE. Performance: LangChain enhances the performance of application development, while LangSmith optimizes the performance of applications in production through monitoring and testing.\\n\\nV. Conclusion\\nIn conclusion, understanding the distinctions between LangChain and LangSmith is crucial for developers and organizations venturing into AI application development. By leveraging LangChain for development and LangSmith for production monitoring, teams can enhance the efficiency, scalability, security, and performance of their language model applications. Recognizing the unique strengths of each tool paves the way for impactful advancements in the AI landscape.', 'revision_number': 3}}\n"
     ]
    }
   ],
   "source": [
    "thread = {\"configurable\": {\"thread_id\": \"1\"}}\n",
    "for s in graph.stream({\n",
    "    'task': \"what is the difference between langchain and langsmith\",\n",
    "    \"max_revisions\": 2,\n",
    "    \"revision_number\": 1,\n",
    "}, thread):\n",
    "    print(s)"
   ]
  },
  {
   "cell_type": "code",
   "execution_count": null,
   "id": "0ad8a6cc-65d4-4ce7-87aa-4e67d7c23d7b",
   "metadata": {
    "height": 30
   },
   "outputs": [],
   "source": []
  },
  {
   "cell_type": "markdown",
   "id": "4d1664b5-75e0-46b7-9c2b-4ac9171f4597",
   "metadata": {},
   "source": [
    "## Essay Writer Interface"
   ]
  },
  {
   "cell_type": "code",
   "execution_count": null,
   "id": "592b5e62-a203-433c-92a0-3783f490cde1",
   "metadata": {
    "height": 30
   },
   "outputs": [],
   "source": []
  },
  {
   "cell_type": "code",
   "execution_count": null,
   "id": "14fa923c-7e4f-42d1-965f-0f8ccd50fbd7",
   "metadata": {
    "height": 30
   },
   "outputs": [],
   "source": []
  },
  {
   "cell_type": "code",
   "execution_count": null,
   "id": "570c6245-2837-4ac5-983b-95f61f3ac10d",
   "metadata": {
    "height": 30
   },
   "outputs": [],
   "source": []
  },
  {
   "cell_type": "code",
   "execution_count": null,
   "id": "6b910915-b087-4d35-afff-0ec30a5852f1",
   "metadata": {
    "height": 30
   },
   "outputs": [],
   "source": []
  },
  {
   "cell_type": "code",
   "execution_count": null,
   "id": "c4feb6cc-5129-4a99-bb45-851bc07b5709",
   "metadata": {
    "height": 30
   },
   "outputs": [],
   "source": []
  },
  {
   "cell_type": "code",
   "execution_count": null,
   "id": "e85a02b4-96cc-4b01-8792-397a774eb499",
   "metadata": {
    "height": 30
   },
   "outputs": [],
   "source": []
  },
  {
   "cell_type": "code",
   "execution_count": null,
   "id": "ae8b86a6-5e20-4252-b1d8-009b8318345a",
   "metadata": {
    "height": 30
   },
   "outputs": [],
   "source": []
  },
  {
   "cell_type": "code",
   "execution_count": null,
   "id": "af925917-b746-48c9-ac74-62fefbe5246c",
   "metadata": {
    "height": 30
   },
   "outputs": [],
   "source": []
  },
  {
   "cell_type": "code",
   "execution_count": null,
   "id": "d5048f2c-4d82-49a5-9cb1-918d78b39f7b",
   "metadata": {
    "height": 30
   },
   "outputs": [],
   "source": []
  },
  {
   "cell_type": "code",
   "execution_count": null,
   "id": "393f7f1f-68b4-4462-bfa5-b6472ef1304a",
   "metadata": {
    "height": 30
   },
   "outputs": [],
   "source": []
  },
  {
   "cell_type": "code",
   "execution_count": null,
   "id": "43ac0aa9-baa7-4b58-889d-2118cc00c6b5",
   "metadata": {
    "height": 30
   },
   "outputs": [],
   "source": []
  },
  {
   "cell_type": "code",
   "execution_count": null,
   "id": "ed6098b9-e2a9-4767-8cb5-346db835c8d2",
   "metadata": {
    "height": 30
   },
   "outputs": [],
   "source": []
  },
  {
   "cell_type": "code",
   "execution_count": null,
   "id": "2d23cf2a-a179-44dc-9ae3-2eddda4b67b4",
   "metadata": {
    "height": 30
   },
   "outputs": [],
   "source": []
  },
  {
   "cell_type": "code",
   "execution_count": null,
   "id": "14a6005b-0221-4f5e-9be0-0580c1d03126",
   "metadata": {
    "height": 30
   },
   "outputs": [],
   "source": []
  },
  {
   "cell_type": "code",
   "execution_count": null,
   "id": "41c1ec12-f1c8-41ae-bb3e-5f28997b9b99",
   "metadata": {
    "height": 30
   },
   "outputs": [],
   "source": []
  },
  {
   "cell_type": "code",
   "execution_count": null,
   "id": "5c8c07d7-be17-4c17-82c5-6fe1db028b8b",
   "metadata": {
    "height": 30
   },
   "outputs": [],
   "source": []
  },
  {
   "cell_type": "code",
   "execution_count": null,
   "id": "04592c8e-1cfe-4b26-93b5-caf1ed1e7d24",
   "metadata": {
    "height": 30
   },
   "outputs": [],
   "source": []
  },
  {
   "cell_type": "code",
   "execution_count": null,
   "id": "6181c4a9-0e71-4f67-b71f-18a225e37202",
   "metadata": {
    "height": 30
   },
   "outputs": [],
   "source": []
  },
  {
   "cell_type": "code",
   "execution_count": null,
   "id": "e1c478a9-7bfe-49e2-8a7d-1536271f45a6",
   "metadata": {
    "height": 30
   },
   "outputs": [],
   "source": []
  },
  {
   "cell_type": "code",
   "execution_count": null,
   "id": "0a6d6771-3fad-4f37-9b32-45b36ad85c59",
   "metadata": {
    "height": 30
   },
   "outputs": [],
   "source": []
  },
  {
   "cell_type": "code",
   "execution_count": null,
   "id": "a3629eb3-655d-467a-b413-63f547c2de08",
   "metadata": {
    "height": 30
   },
   "outputs": [],
   "source": []
  },
  {
   "cell_type": "code",
   "execution_count": null,
   "id": "f772f251-2b61-4d10-97c5-61cef9207a76",
   "metadata": {
    "height": 30
   },
   "outputs": [],
   "source": []
  },
  {
   "cell_type": "code",
   "execution_count": null,
   "id": "0de92979-7ac5-4a7c-91c1-10806b7d529c",
   "metadata": {
    "height": 30
   },
   "outputs": [],
   "source": []
  },
  {
   "cell_type": "code",
   "execution_count": null,
   "id": "479c4325-f625-4bbf-9d74-cc58f10763f2",
   "metadata": {
    "height": 30
   },
   "outputs": [],
   "source": []
  },
  {
   "cell_type": "code",
   "execution_count": null,
   "id": "c4070be7-72da-42f9-a25d-8a6c628788b8",
   "metadata": {
    "height": 30
   },
   "outputs": [],
   "source": []
  },
  {
   "cell_type": "code",
   "execution_count": null,
   "id": "9289efbe-7033-4f32-8482-2039c5f9db90",
   "metadata": {
    "height": 30
   },
   "outputs": [],
   "source": []
  },
  {
   "cell_type": "code",
   "execution_count": null,
   "id": "25e480bb-22ab-4acb-a42c-71da3d04a5b1",
   "metadata": {
    "height": 30
   },
   "outputs": [],
   "source": []
  },
  {
   "cell_type": "code",
   "execution_count": null,
   "id": "90dea35c-7483-4b3d-b5e3-76eb3a0fe536",
   "metadata": {
    "height": 30
   },
   "outputs": [],
   "source": []
  },
  {
   "cell_type": "code",
   "execution_count": null,
   "id": "e9ac5730-a9d5-4ea4-8546-ebcb265cf1da",
   "metadata": {
    "height": 30
   },
   "outputs": [],
   "source": []
  },
  {
   "cell_type": "code",
   "execution_count": null,
   "id": "96e1f28b-46d8-4bcd-b2e4-730376ee7ccf",
   "metadata": {
    "height": 30
   },
   "outputs": [],
   "source": []
  },
  {
   "cell_type": "code",
   "execution_count": null,
   "id": "22ac7020-b4f4-4bd2-a875-ccee93f83d83",
   "metadata": {
    "height": 30
   },
   "outputs": [],
   "source": []
  },
  {
   "cell_type": "code",
   "execution_count": null,
   "id": "61f79eb9-d1c9-44b0-9efd-a8f9b380332a",
   "metadata": {
    "height": 30
   },
   "outputs": [],
   "source": []
  },
  {
   "cell_type": "code",
   "execution_count": null,
   "id": "ce509206-bde1-43e4-a88f-8a565539d357",
   "metadata": {
    "height": 30
   },
   "outputs": [],
   "source": []
  },
  {
   "cell_type": "code",
   "execution_count": null,
   "id": "bdba1590-9e7b-4c0f-9492-81a07d286c55",
   "metadata": {
    "height": 30
   },
   "outputs": [],
   "source": []
  },
  {
   "cell_type": "code",
   "execution_count": null,
   "id": "aa8fe4a8-5372-479d-b248-af7a295c86c1",
   "metadata": {
    "height": 30
   },
   "outputs": [],
   "source": []
  },
  {
   "cell_type": "code",
   "execution_count": null,
   "id": "7514720a-14bc-4552-ade5-fa03f86f4c73",
   "metadata": {
    "height": 30
   },
   "outputs": [],
   "source": []
  }
 ],
 "metadata": {
  "kernelspec": {
   "display_name": "Python 3 (ipykernel)",
   "language": "python",
   "name": "python3"
  },
  "language_info": {
   "codemirror_mode": {
    "name": "ipython",
    "version": 3
   },
   "file_extension": ".py",
   "mimetype": "text/x-python",
   "name": "python",
   "nbconvert_exporter": "python",
   "pygments_lexer": "ipython3",
   "version": "3.9.13"
  }
 },
 "nbformat": 4,
 "nbformat_minor": 5
}
